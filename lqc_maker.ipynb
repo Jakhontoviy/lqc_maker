{
 "cells": [
  {
   "cell_type": "markdown",
   "source": [
    "описание"
   ],
   "metadata": {
    "collapsed": false
   }
  },
  {
   "cell_type": "code",
   "execution_count": 27,
   "metadata": {
    "collapsed": true
   },
   "outputs": [],
   "source": [
    "import json\n",
    "import pandas as pd\n",
    "from sklearn.cluster import DBSCAN\n",
    "import ctypes\n",
    "import lasio\n",
    "from welly import Well, Project\n",
    "import os"
   ]
  },
  {
   "cell_type": "code",
   "execution_count": 28,
   "outputs": [
    {
     "name": "stdout",
     "output_type": "stream",
     "text": [
      "['/Users/victorpotysyev/PycharmProjects/lqc_maker/1607/1607_18902381.las', '/Users/victorpotysyev/PycharmProjects/lqc_maker/1607/1607_18902341.las', '/Users/victorpotysyev/PycharmProjects/lqc_maker/1607/1607_18902421.las', '/Users/victorpotysyev/PycharmProjects/lqc_maker/1607/1607_18902401.las', '/Users/victorpotysyev/PycharmProjects/lqc_maker/511/511R_511-P_ak.las', '/Users/victorpotysyev/PycharmProjects/lqc_maker/511/511R_511-P_vik.las', '/Users/victorpotysyev/PycharmProjects/lqc_maker/511/511R_511_bk.las', '/Users/victorpotysyev/PycharmProjects/lqc_maker/511/511R_S-Koms_511p_rk.las', '/Users/victorpotysyev/PycharmProjects/lqc_maker/511/511R_511_vik.las', '/Users/victorpotysyev/PycharmProjects/lqc_maker/511/511R_511-P_rk.las', '/Users/victorpotysyev/PycharmProjects/lqc_maker/511/511R_511_ggk_cav.las', '/Users/victorpotysyev/PycharmProjects/lqc_maker/511/511R_ЯМК Северо-Комсомольское 511Р.las', '/Users/victorpotysyev/PycharmProjects/lqc_maker/511/511R_S-Koms_511p_ak.las', '/Users/victorpotysyev/PycharmProjects/lqc_maker/511/511R_511_st.las', '/Users/victorpotysyev/PycharmProjects/lqc_maker/511/511R_511-P_ggk_cav.las', '/Users/victorpotysyev/PycharmProjects/lqc_maker/511/511R_511_rk.las', '/Users/victorpotysyev/PycharmProjects/lqc_maker/511/511R_511-P_st.las', '/Users/victorpotysyev/PycharmProjects/lqc_maker/511/511R_S-Koms_511p_stand.las', '/Users/victorpotysyev/PycharmProjects/lqc_maker/511/511R_511_ak.las', '/Users/victorpotysyev/PycharmProjects/lqc_maker/511/511R_511-P_mkz.las', '/Users/victorpotysyev/PycharmProjects/lqc_maker/511/511R_S-Koms_511p_ggk_cav.las', '/Users/victorpotysyev/PycharmProjects/lqc_maker/511/511R_S-Koms_511p_vik.las']\n"
     ]
    }
   ],
   "source": [
    "!ls *.LAS"
   ],
   "metadata": {
    "collapsed": false
   }
  },
  {
   "cell_type": "code",
   "execution_count": null,
   "outputs": [],
   "source": [
    "#словари перенести в json файлы\n",
    "ds=\"LQC\"\n",
    "distance_typing = 1000        #параметр для настройки типизации интервалов записи\n",
    "\n",
    "famdict={'CALI':     [\"Caliper\",\"mm\"],\n",
    "         'GR':       [\"Gamma Ray\",\"Gapi\"],\n",
    "         'RHOB':     [\"Bulk Density\", \"g/cm3\"],\n",
    "         'NPHI':     [\"Neutron Porosity\", \"v/v\"],\n",
    "         'PEF':      [\"Photoelectric Factor\", \"b/e\"],\n",
    "         'IL':       [\"Induction Resistivity\", \"Ohmm\"],\n",
    "         'IL1':      [\"Induction Resistivity\", \"Ohmm\"],\n",
    "         'IL2':      [\"Induction Resistivity\", \"Ohmm\"],\n",
    "         'IL3':      [\"Induction Resistivity\", \"Ohmm\"],\n",
    "         'IL4':      [\"Induction Resistivity\", \"Ohmm\"],\n",
    "         'IL5':      [\"Induction Resistivity\", \"Ohmm\"],\n",
    "         'RTIL':     [\"Formation Resistivity\", \"Ohmm\"],\n",
    "         'LL':       [\"Lateral Log Resistivity\", \"Ohmm\"],\n",
    "         'LL1':      [\"Lateral Log Resistivity\", \"Ohmm\"],\n",
    "         'LL2':      [\"Lateral Log Resistivity\", \"Ohmm\"],\n",
    "         'LL3':      [\"Lateral Log Resistivity\", \"Ohmm\"],\n",
    "         'LL4':      [\"Lateral Log Resistivity\", \"Ohmm\"],\n",
    "         'LL5':      [\"Lateral Log Resistivity\", \"Ohmm\"],\n",
    "         'RTLL':     [\"Formation Resistivity\", \"Ohmm\"],\n",
    "         'RT':       [\"Formation Resistivity\", \"Ohmm\"],\n",
    "         'SP':       [\"Spontaneous Potential\", \"mV\"],\n",
    "         'DTP':      [\"Compressional Slowness\", \"us/m\"],\n",
    "         'DTS':      [\"Shear Slowness\", \"us/m\"],\n",
    "         'MPHI':     [\"NMR Porosity\", \"v/v\"],\n",
    "         'NKTB':     [\"Neutron Far\", \"UE\"]}\n",
    "\n",
    "lqcdict={'CALI':     ['DS','CALI','ДС'],\n",
    "         'GR':       ['GK','ГК', 'GR'],\n",
    "         'RHOB':     ['GGK','RHOB','ГГКп'],\n",
    "         'NPHI':     ['WS','TRNP','W'],\n",
    "         'PEF':      ['PEF'],\n",
    "         'IL':       ['ИК','IK'],\n",
    "         'IL1':      ['RO05','IVR1'],\n",
    "         'IL2':      ['RO07','IVR2'],\n",
    "         'IL3':      ['RO10','IVR3'],\n",
    "         'IL4':      ['RO14','IVR4'],\n",
    "         'IL5':      ['RO20','IVR5'],\n",
    "         'RTIL':     ['RT_IK'],\n",
    "         'LL':       ['BK','БК'],\n",
    "         'LL1':      ['L1FC','BK1'],\n",
    "         'LL2':      ['L2FC', 'BK2'],\n",
    "         'LL3':      ['L3FC', 'BK3'],\n",
    "         'LL4':      ['L4FC', 'BK4'],\n",
    "         'LL5':      ['L5FC', 'BK5'],\n",
    "         'RTLL':     ['RT_BK', 'REK_BK'],\n",
    "         'RT':       ['ROP', 'RT'],\n",
    "         'SP':       ['PS', 'SP'],\n",
    "         'DTP':      ['DTp','DTP', 'DT','DTCO'],\n",
    "         'DTS':      ['DTs','DTs','DTSM'],\n",
    "         'MPHI':     ['TCMR'],\n",
    "         'NKTB':     ['CFTC','НКТб','NKTB']}\n"
   ],
   "metadata": {
    "collapsed": false
   }
  },
  {
   "cell_type": "code",
   "execution_count": null,
   "outputs": [],
   "source": [
    "def datasetlist_sort(well, datasetlist):\n",
    "\tdsets = []\n",
    "\tfor dset in datasetlist:\n",
    "\t\ttop = db.variableLoad(well, dset,db.referenceName(well, dset))[0]\n",
    "\t\tbottom = db.variableLoad(well, dset,db.referenceName(well ,dset))[-1]\n",
    "\t\tif bottom > db.referenceValue(well, \"Index\" ,db.datasetSize(well, \"Index\") - 1):\n",
    "\t\t\tprint(\"Dataset {} larger than Index!\".format(dset))\n",
    "\t\t\tctypes.windll.user32.MessageBoxW(0, \"Dataset {} larger than Index!\".format(dset), \"Index Error\", 0)\n",
    "\t\tdsets.append([dset, top, bottom, bottom-top])\n",
    "\tds_df = pd.DataFrame(dsets, columns=['dataset', 'top', 'bottom', 'size'])\n",
    "\tds_df.sort_values(by=['top', 'size'], inplace=True)\n",
    "\n",
    "\tdbs = DBSCAN(eps=distance_typing, min_samples=1).fit(ds_df[['top', 'bottom', 'size']])\n",
    "\tds_df['labels'] = dbs.labels_\n",
    "\n",
    "\tprint(ds_df)\n",
    "\n",
    "\treturn ds_df[['dataset', 'labels']].values.tolist()\n",
    "\n"
   ],
   "metadata": {
    "collapsed": false
   }
  },
  {
   "cell_type": "code",
   "execution_count": null,
   "outputs": [],
   "source": [
    "well_list = db.selectedWellList()\n",
    "for well in well_list:\n",
    "\tprint(well)\n",
    "\tif  db.datasetExists(well, ds):  #надо сделать индикатор наличия лкуси датасета для дальнейшего использования.\n",
    "\t\tdb.datasetDelete(well, ds)\n",
    "\n",
    "\tif db.datasetExists(well,'Index'):\n",
    "\t\tMD = [round(d*0.1, 1) for d in range(0, int(round(db.referenceValue(well, \"Index\", db.datasetSize(well, \"Index\") - 1) / 0.1, 0)) + 1)]\n",
    "\t\tdb.datasetCreate(well, ds ,\"MD\", \"Measured Depth\", \"m\", MD)\n",
    "\telse:\n",
    "\t\tprint(\"No Index dataset in well DB!\")\n",
    "\t\tbreak\n",
    "\n",
    "\tfor data_set, dslabel in datasetlist_sort(well, db.selectedDatasetList(well)):\n",
    "\t\tif dslabel == 0:\n",
    "\t\t\tdslabel_ = \"\"\n",
    "\t\telse:\n",
    "\t\t\tdslabel_ = \"_\" + str(dslabel)\n",
    "\t\tfor cname in db.variableList(well, data_set):\n",
    "\t\t\tif  any(cname in sublist for sublist in list(lqcdict.values())) : # есть ли кривая в словаре lqcdict гделибо\n",
    "\t\t\t\tlqcname = list(lqcdict.keys())[list(lqcdict.values()).index([sublist for sublist in list(lqcdict.values()) if cname in sublist][0])] + dslabel_ #выбираем из словаря ключ соотвествующий найденному в значениях имени кривой\n",
    "\n",
    "\t\t\t\t#версия кривой\n",
    "\t\t\t\tif db.variableExists(well, ds, lqcname):\n",
    "\t\t\t\t\tclist = [i for i in db.variableList(well, ds) if i.find(lqcname) != -1]\n",
    "\t\t\t\t\tif len(clist)>=1:\n",
    "\t\t\t\t\t\tlqcname=lqcname+\"_\"+str(len(clist))\n",
    "\n",
    "\t\t\t\tdb.variableCopy(well, data_set, cname, ds, lqcname)\n",
    "\t\t\t\tdb.variableHistoryAdd(well, ds, lqcname, \"Curve copied to LQC from dataset {}\".format(data_set))\n",
    "\n",
    "\t\t\t\t#обновление family\n",
    "\t\t\t\tif lqcname.find(\"_\") == -1:\n",
    "\t\t\t\t\tversion_index = len(lqcname)\n",
    "\t\t\t\telse:\n",
    "\t\t\t\t\tversion_index = lqcname.find(\"_\")\n",
    "\t\t\t\tif db.variableFamily(well, ds, lqcname) != famdict[lqcname[0:version_index]][0]:\n",
    "\t\t\t\t\tdb.variableFamilyChange(well, ds, lqcname, famdict[lqcname[0:version_index]][0])\n",
    "\n",
    "\t\t\t\t#обновление unit для некоторых кривых\n",
    "\t\t\t\tif db.variableUnit(well, ds, lqcname)!=famdict[lqcname[0:version_index]][1]:\n",
    "\t\t\t\t\tcrunit = \"\"\n",
    "\n",
    "\t\t\t\t\tif lqcname[0:version_index] == \"NPHI\": #добавить проверку по конкретным методам ГК НК\n",
    "\t\t\t\t\t\tif  float(db.variableInformation(well, ds, lqcname,\" Mean\"))<1:\n",
    "\t\t\t\t\t\t\tcrunit = \"v/v\"\n",
    "\t\t\t\t\t\telse:\n",
    "\t\t\t\t\t\t\tcrunit = \"%\"\n",
    "\n",
    "\t\t\t\t\telif lqcname[0:version_index] == \"GR\" :\n",
    "\t\t\t\t\t\tif float(db.variableInformation(well, ds, lqcname, \"Mean\"))<50:\n",
    "\t\t\t\t\t\t\tcrunit = \"uR/H\"\n",
    "\t\t\t\t\t\telse:\n",
    "\t\t\t\t\t\t\tcrunit = \"Gapi\"\n",
    "\n",
    "\t\t\t\t\telif lqcname[0:version_index] == \"CALI\" :\n",
    "\t\t\t\t\t\tif float(db.variableInformation(well, ds, lqcname, \"Mean\"))<1:\n",
    "\t\t\t\t\t\t\tcrunit = \"m\"\n",
    "\t\t\t\t\t\telse:\n",
    "\t\t\t\t\t\t\tcrunit = \"mm\"\n",
    "\t\t\t\t\telse:\n",
    "\t\t\t\t\t\tcrunit = famdict[lqcname[0:version_index]][1]\n",
    "\n",
    "\t\t\t\t\tdb.variableUnitChange(well, ds, lqcname, crunit)\n",
    "\n"
   ],
   "metadata": {
    "collapsed": false
   }
  },
  {
   "cell_type": "code",
   "execution_count": 39,
   "outputs": [
    {
     "name": "stderr",
     "output_type": "stream",
     "text": [
      "0it [00:00, ?it/s]/opt/anaconda3/lib/python3.9/site-packages/welly/las.py:144: UserWarning: Warning, LAS version 3.0 not yet supported. Attempting to use LAS 1.2 and 2.0 parsing logic for LAS 3.0.\n",
      "  datasets = from_lasio(las)\n",
      "1it [00:00,  3.75it/s]/opt/anaconda3/lib/python3.9/site-packages/welly/las.py:144: UserWarning: Warning, LAS version 3.0 not yet supported. Attempting to use LAS 1.2 and 2.0 parsing logic for LAS 3.0.\n",
      "  datasets = from_lasio(las)\n",
      "2it [00:00,  5.76it/s]/opt/anaconda3/lib/python3.9/site-packages/welly/las.py:144: UserWarning: Warning, LAS version 3.0 not yet supported. Attempting to use LAS 1.2 and 2.0 parsing logic for LAS 3.0.\n",
      "  datasets = from_lasio(las)\n",
      "3it [00:00,  4.55it/s]/opt/anaconda3/lib/python3.9/site-packages/welly/las.py:144: UserWarning: Warning, LAS version 3.0 not yet supported. Attempting to use LAS 1.2 and 2.0 parsing logic for LAS 3.0.\n",
      "  datasets = from_lasio(las)\n",
      "4it [00:00,  4.45it/s]/opt/anaconda3/lib/python3.9/site-packages/welly/las.py:144: UserWarning: Warning, LAS version 3.0 not yet supported. Attempting to use LAS 1.2 and 2.0 parsing logic for LAS 3.0.\n",
      "  datasets = from_lasio(las)\n",
      "/opt/anaconda3/lib/python3.9/site-packages/welly/las.py:144: UserWarning: Warning, LAS version 3.0 not yet supported. Attempting to use LAS 1.2 and 2.0 parsing logic for LAS 3.0.\n",
      "  datasets = from_lasio(las)\n",
      "6it [00:01,  7.11it/s]/opt/anaconda3/lib/python3.9/site-packages/welly/las.py:144: UserWarning: Warning, LAS version 3.0 not yet supported. Attempting to use LAS 1.2 and 2.0 parsing logic for LAS 3.0.\n",
      "  datasets = from_lasio(las)\n",
      "7it [00:01,  5.88it/s]/opt/anaconda3/lib/python3.9/site-packages/welly/las.py:144: UserWarning: Warning, LAS version 3.0 not yet supported. Attempting to use LAS 1.2 and 2.0 parsing logic for LAS 3.0.\n",
      "  datasets = from_lasio(las)\n",
      "8it [00:01,  6.01it/s]/opt/anaconda3/lib/python3.9/site-packages/welly/las.py:144: UserWarning: Warning, LAS version 3.0 not yet supported. Attempting to use LAS 1.2 and 2.0 parsing logic for LAS 3.0.\n",
      "  datasets = from_lasio(las)\n",
      "9it [00:01,  4.74it/s]/opt/anaconda3/lib/python3.9/site-packages/welly/las.py:144: UserWarning: Warning, LAS version 3.0 not yet supported. Attempting to use LAS 1.2 and 2.0 parsing logic for LAS 3.0.\n",
      "  datasets = from_lasio(las)\n",
      "/opt/anaconda3/lib/python3.9/site-packages/welly/las.py:144: UserWarning: Warning, LAS version 3.0 not yet supported. Attempting to use LAS 1.2 and 2.0 parsing logic for LAS 3.0.\n",
      "  datasets = from_lasio(las)\n",
      "11it [00:02,  5.58it/s]/opt/anaconda3/lib/python3.9/site-packages/welly/las.py:144: UserWarning: Warning, LAS version 3.0 not yet supported. Attempting to use LAS 1.2 and 2.0 parsing logic for LAS 3.0.\n",
      "  datasets = from_lasio(las)\n",
      "12it [00:02,  5.77it/s]/opt/anaconda3/lib/python3.9/site-packages/welly/las.py:144: UserWarning: Warning, LAS version 3.0 not yet supported. Attempting to use LAS 1.2 and 2.0 parsing logic for LAS 3.0.\n",
      "  datasets = from_lasio(las)\n",
      "13it [00:02,  6.47it/s]/opt/anaconda3/lib/python3.9/site-packages/welly/las.py:144: UserWarning: Warning, LAS version 3.0 not yet supported. Attempting to use LAS 1.2 and 2.0 parsing logic for LAS 3.0.\n",
      "  datasets = from_lasio(las)\n",
      "14it [00:02,  5.31it/s]/opt/anaconda3/lib/python3.9/site-packages/welly/las.py:144: UserWarning: Warning, LAS version 3.0 not yet supported. Attempting to use LAS 1.2 and 2.0 parsing logic for LAS 3.0.\n",
      "  datasets = from_lasio(las)\n",
      "/opt/anaconda3/lib/python3.9/site-packages/welly/las.py:144: UserWarning: Warning, LAS version 3.0 not yet supported. Attempting to use LAS 1.2 and 2.0 parsing logic for LAS 3.0.\n",
      "  datasets = from_lasio(las)\n",
      "16it [00:02,  6.06it/s]/opt/anaconda3/lib/python3.9/site-packages/welly/las.py:144: UserWarning: Warning, LAS version 3.0 not yet supported. Attempting to use LAS 1.2 and 2.0 parsing logic for LAS 3.0.\n",
      "  datasets = from_lasio(las)\n",
      "/opt/anaconda3/lib/python3.9/site-packages/welly/las.py:144: UserWarning: Warning, LAS version 3.0 not yet supported. Attempting to use LAS 1.2 and 2.0 parsing logic for LAS 3.0.\n",
      "  datasets = from_lasio(las)\n",
      "18it [00:03,  6.30it/s]/opt/anaconda3/lib/python3.9/site-packages/welly/las.py:144: UserWarning: Warning, LAS version 3.0 not yet supported. Attempting to use LAS 1.2 and 2.0 parsing logic for LAS 3.0.\n",
      "  datasets = from_lasio(las)\n",
      "19it [00:03,  5.71it/s]/opt/anaconda3/lib/python3.9/site-packages/welly/las.py:144: UserWarning: Warning, LAS version 3.0 not yet supported. Attempting to use LAS 1.2 and 2.0 parsing logic for LAS 3.0.\n",
      "  datasets = from_lasio(las)\n",
      "/opt/anaconda3/lib/python3.9/site-packages/welly/las.py:144: UserWarning: Warning, LAS version 3.0 not yet supported. Attempting to use LAS 1.2 and 2.0 parsing logic for LAS 3.0.\n",
      "  datasets = from_lasio(las)\n",
      "21it [00:03,  7.09it/s]/opt/anaconda3/lib/python3.9/site-packages/welly/las.py:144: UserWarning: Warning, LAS version 3.0 not yet supported. Attempting to use LAS 1.2 and 2.0 parsing logic for LAS 3.0.\n",
      "  datasets = from_lasio(las)\n",
      "22it [00:03,  6.03it/s]"
     ]
    },
    {
     "name": "stdout",
     "output_type": "stream",
     "text": [
      "1607\n",
      "1607\n",
      "1607\n",
      "1607\n",
      "511R\n",
      "511R\n",
      "511R\n",
      "511R\n",
      "511R\n",
      "511R\n",
      "511R\n",
      "511R\n",
      "511R\n",
      "511R\n",
      "511R\n",
      "511R\n",
      "511R\n",
      "511R\n",
      "511R\n",
      "511R\n",
      "511R\n",
      "511R\n"
     ]
    },
    {
     "name": "stderr",
     "output_type": "stream",
     "text": [
      "\n"
     ]
    }
   ],
   "source": [
    "#указать папку с ласами они могут быть из разных скважин\n",
    "las_path = \"\\\\511\"\n",
    "\n",
    "#используя lasio скачать данные и передать в функцию для создания рабочего датасета"
   ],
   "metadata": {
    "collapsed": false
   }
  }
 ],
 "metadata": {
  "kernelspec": {
   "display_name": "Python 3",
   "language": "python",
   "name": "python3"
  },
  "language_info": {
   "codemirror_mode": {
    "name": "ipython",
    "version": 2
   },
   "file_extension": ".py",
   "mimetype": "text/x-python",
   "name": "python",
   "nbconvert_exporter": "python",
   "pygments_lexer": "ipython2",
   "version": "2.7.6"
  }
 },
 "nbformat": 4,
 "nbformat_minor": 0
}
